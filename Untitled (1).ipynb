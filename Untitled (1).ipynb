{
 "cells": [
  {
   "cell_type": "code",
   "execution_count": 19,
   "id": "91073d4d-cb42-4ae3-afdf-3e24c36c0d1f",
   "metadata": {
    "tags": []
   },
   "outputs": [
    {
     "data": {
      "text/plain": [
       "\"\\nimg = cv2.imread('a.jpg', cv2.IMREAD_GRAYSCALE)\\nret,thr = cv2.threshold(img,127,255,cv2.THRESH_BINARY)\\nthr = cv2.bitwise_not(thr)\\n\\nthr_0 = thr[:500]\\nprint(img.shape)\\n\\n#contours, hierarchy = cv2.findContours(thr, cv2.RETR_TREE, cv2.CHAIN_APPROX_SIMPLE)\\n\\n\\n\\n\\n\\n#img = cv2.drawContours(img, contours, 0, (200,0,0), 10)\\nplt.imshow(thr_0)\\nx = contours[0]\\nx = np.reshape(x,(-1,2))\\n\""
      ]
     },
     "execution_count": 19,
     "metadata": {},
     "output_type": "execute_result"
    }
   ],
   "source": [
    "import numpy as np\n",
    "import cv2 \n",
    "from matplotlib import pyplot as plt\n",
    "'''\n",
    "img = cv2.imread('a.jpg', cv2.IMREAD_GRAYSCALE)\n",
    "ret,thr = cv2.threshold(img,127,255,cv2.THRESH_BINARY)\n",
    "thr = cv2.bitwise_not(thr)\n",
    "\n",
    "thr_0 = thr[:500]\n",
    "print(img.shape)\n",
    "\n",
    "#contours, hierarchy = cv2.findContours(thr, cv2.RETR_TREE, cv2.CHAIN_APPROX_SIMPLE)\n",
    "\n",
    "\n",
    "\n",
    "\n",
    "\n",
    "#img = cv2.drawContours(img, contours, 0, (200,0,0), 10)\n",
    "plt.imshow(thr_0)\n",
    "x = contours[0]\n",
    "x = np.reshape(x,(-1,2))\n",
    "'''"
   ]
  },
  {
   "cell_type": "code",
   "execution_count": null,
   "id": "abb1e6d8-c1d3-45e6-b8d0-e69b6a3c3dea",
   "metadata": {
    "tags": []
   },
   "outputs": [],
   "source": []
  },
  {
   "cell_type": "code",
   "execution_count": 121,
   "id": "f7185056-3fb2-4b7b-bcb4-9346bc32d44a",
   "metadata": {
    "tags": []
   },
   "outputs": [
    {
     "name": "stdout",
     "output_type": "stream",
     "text": [
      "39\n",
      "32\n",
      "24\n",
      "8\n"
     ]
    },
    {
     "data": {
      "image/png": "[encoded data removed]",
      "text/plain": [
       "<Figure size 640x480 with 1 Axes>"
      ]
     },
     "metadata": {},
     "output_type": "display_data"
    }
   ],
   "source": [
    "import cv2\n",
    "import numpy as np\n",
    "import time\n",
    "from matplotlib import pyplot as plt\n",
    "\n",
    "'''\n",
    "from pop import Util,Pilot\n",
    "Car=Pilot.AutoCar()\n",
    "Car.camPan(98)\n",
    "Car.camTilt(-15)\n",
    "Util.enable_imshow()\n",
    "\n",
    "cam = Util.gstrmer(width=640,height=480)\n",
    "cap =cv2.VideoCapture(cam,cv2.CAP_GSTREAMER)\n",
    "camera_matrix_file=\"intrinsic_parameters/camera_matrix.npy\"\n",
    "dist_coeffs_file = \"intrinsic_parameters/distortion_coefficients.npy\"\n",
    "\n",
    "camera_matrix=np.load(camera_matrix_file)\n",
    "dist_coeffs=np.load(dist_coeffs_file)\n",
    "'''\n",
    "\n",
    "#-------------------------------------------------------------------------#\n",
    "\n",
    "\n",
    "def Get_center(img,height_range:tuple , width_range = (320 - 320 , 320 + 320) , min_contour_area = 100 ):\n",
    "    \n",
    "    # get cam center\n",
    "    cam_cx,cam_cy = int ((width_range[0] + width_range[1]) / 2) , int ((height_range[0] + height_range[1]) / 2)\n",
    "    \n",
    "    # convert image by bitwise\n",
    "    crop_img  = img[height_range[0]:height_range[1],width_range[0]:width_range[1]]\n",
    "    gray_img = cv2.cvtColor(crop_img, cv2.COLOR_BGR2GRAY)\n",
    "    ret, thr_img = cv2.threshold( gray_img , 127 , 255 , cv2.THRESH_BINARY )\n",
    "    thr_img = cv2.bitwise_not ( thr_img )\n",
    "    \n",
    "    # get contours\n",
    "    contours , hierarchy = cv2.findContours(thr_img , cv2.RETR_TREE , cv2.CHAIN_APPROX_SIMPLE)\n",
    "    \n",
    "    # IF No contour\n",
    "    if(len(contours) == 0 ) :  return cam_cx, cam_cy ,  cam_cx , cam_cy\n",
    "    \n",
    "    # IF Too small contour area\n",
    "    c = max(contours , key = cv2.contourArea)\n",
    "    M = cv2.moments(c)\n",
    "    if( M['m00'] < min_contour_area ): return cam_cx, cam_cy ,  cam_cx , cam_cy\n",
    "    \n",
    "    \n",
    "    # get center\n",
    "    cx = int(M['m10']/M['m00']) + width_range[0] \n",
    "    cy = int(M['m01']/M['m00']) + height_range[0]\n",
    "\n",
    "    # draw\n",
    "    cv2.drawContours(crop_img, contours, -1, (255,0,0), 3)\n",
    "    cv2.circle(img, (cx,cy), 1,(255,0,0) ,5)\n",
    "    cv2.circle(img, (cam_cx,cam_cy), 1,(0,0,255) ,5)\n",
    "    \n",
    "    #print( cam_cx, cam_cy , cx , cy ) ; print( M['m00'] )  ; print(len(contours ))\n",
    "    return cam_cx, cam_cy , cx , cy\n",
    "\n",
    "\n",
    "\n",
    "#-------------------------------------------------------------------------#\n",
    "prior_error = 0; I = 0;\n",
    "def Get_pid_value(error, Kp , Ki , Kd):  \n",
    "    P = error \n",
    "    I = I+error \n",
    "    D = error - prior_error\n",
    "    \n",
    "    pid_value = P*Kp + I*Ki + D*Kd\n",
    "    \n",
    "    prior_error = error\n",
    "    return pid_value\n",
    "    \n",
    "#-------------------------------------------------------------------------#\n",
    "while True:\n",
    "    \n",
    "    #ret, img =cap.read() ; img=cv2.undistort(img,camera_matrix,dist_coeffs)\n",
    "    img = cv2.imread('alpac2.jpg') ; img = cv2.resize(img,(640,480))#\n",
    "    \n",
    "    \n",
    "    \n",
    "    cam_cx0 , cam_cy0 , contour_cx0 , contour_cy0 = Get_center(img ,height_range = (0,100))\n",
    "    cam_cx1 , cam_cy1 , contour_cx1 , contour_cy1 = Get_center(img ,height_range = (100,200))\n",
    "    cam_cx2 , cam_cy2 , contour_cx2 , contour_cy2 = Get_center(img ,height_range = (200,300))\n",
    "    cam_cx3 , cam_cy3 , contour_cx3 , contour_cy3 = Get_center(img ,height_range = (300,480))\n",
    "    \n",
    "    print( cam_cx0 - contour_cx0 )\n",
    "    print( cam_cx1 - contour_cx1 )\n",
    "    print( cam_cx2 - contour_cx2 )\n",
    "    print( cam_cx3 - contour_cx3 )\n",
    "    \n",
    "    plt.imshow(img) ; plt.show()\n",
    "        \n",
    "     \n",
    "    break;\n",
    "#-------------------------------------------------------------------------#\n",
    "#cap.release()\n",
    "#cv2.destroyAllWindows()\n"
   ]
  },
  {
   "cell_type": "code",
   "execution_count": null,
   "id": "b94c8f72-47da-4afa-8698-28f1896729af",
   "metadata": {},
   "outputs": [],
   "source": []
  }
 ],
 "metadata": {
  "kernelspec": {
   "display_name": "Python 3 (ipykernel)",
   "language": "python",
   "name": "python3"
  },
  "language_info": {
   "codemirror_mode": {
    "name": "ipython",
    "version": 3
   },
   "file_extension": ".py",
   "mimetype": "text/x-python",
   "name": "python",
   "nbconvert_exporter": "python",
   "pygments_lexer": "ipython3",
   "version": "3.10.10"
  }
 },
 "nbformat": 4,
 "nbformat_minor": 5
}
