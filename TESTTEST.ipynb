{
 "cells": [
  {
   "cell_type": "code",
   "execution_count": 19,
   "metadata": {
    "tags": []
   },
   "outputs": [
    {
     "data": {
      "text/plain": [
       "\"\\nimg = cv2.imread('a.jpg', cv2.IMREAD_GRAYSCALE)\\nret,thr = cv2.threshold(img,127,255,cv2.THRESH_BINARY)\\nthr = cv2.bitwise_not(thr)\\n\\nthr_0 = thr[:500]\\nprint(img.shape)\\n\\n#contours, hierarchy = cv2.findContours(thr, cv2.RETR_TREE, cv2.CHAIN_APPROX_SIMPLE)\\n\\n\\n\\n\\n\\n#img = cv2.drawContours(img, contours, 0, (200,0,0), 10)\\nplt.imshow(thr_0)\\nx = contours[0]\\nx = np.reshape(x,(-1,2))\\n\""
      ]
     },
     "execution_count": 19,
     "metadata": {},
     "output_type": "execute_result"
    }
   ],
   "source": [
    "import numpy as np\n",
    "import cv2 \n",
    "from matplotlib import pyplot as plt\n",
    "'''\n",
    "img = cv2.imread('a.jpg', cv2.IMREAD_GRAYSCALE)\n",
    "ret,thr = cv2.threshold(img,127,255,cv2.THRESH_BINARY)\n",
    "thr = cv2.bitwise_not(thr)\n",
    "\n",
    "thr_0 = thr[:500]\n",
    "print(img.shape)\n",
    "\n",
    "#contours, hierarchy = cv2.findContours(thr, cv2.RETR_TREE, cv2.CHAIN_APPROX_SIMPLE)\n",
    "\n",
    "\n",
    "\n",
    "\n",
    "\n",
    "#img = cv2.drawContours(img, contours, 0, (200,0,0), 10)\n",
    "plt.imshow(thr_0)\n",
    "x = contours[0]\n",
    "x = np.reshape(x,(-1,2))\n",
    "'''"
   ]
  },
  {
   "cell_type": "code",
   "execution_count": 19,
   "metadata": {
    "tags": []
   },
   "outputs": [
    {
     "ename": "AttributeError",
     "evalue": "'tuple' object has no attribute 'shape'",
     "output_type": "error",
     "traceback": [
      "\u001b[0;31m---------------------------------------------------------------------------\u001b[0m",
      "\u001b[0;31mAttributeError\u001b[0m                            Traceback (most recent call last)",
      "\u001b[0;32m<ipython-input-19-8312827bbb7e>\u001b[0m in \u001b[0;36m<module>\u001b[0;34m\u001b[0m\n\u001b[1;32m     32\u001b[0m     \u001b[0mtime\u001b[0m\u001b[0;34m.\u001b[0m\u001b[0msleep\u001b[0m\u001b[0;34m(\u001b[0m\u001b[0;36m.5\u001b[0m\u001b[0;34m)\u001b[0m   \u001b[0;31m# simulate time between events\u001b[0m\u001b[0;34m\u001b[0m\u001b[0;34m\u001b[0m\u001b[0m\n\u001b[1;32m     33\u001b[0m     \u001b[0mframe\u001b[0m \u001b[0;34m=\u001b[0m \u001b[0mcap\u001b[0m\u001b[0;34m.\u001b[0m\u001b[0mread\u001b[0m\u001b[0;34m(\u001b[0m\u001b[0;34m)\u001b[0m\u001b[0;34m\u001b[0m\u001b[0;34m\u001b[0m\u001b[0m\n\u001b[0;32m---> 34\u001b[0;31m     \u001b[0mcv2\u001b[0m\u001b[0;34m.\u001b[0m\u001b[0mimshow\u001b[0m\u001b[0;34m(\u001b[0m\u001b[0;34m\"frame\"\u001b[0m\u001b[0;34m,\u001b[0m \u001b[0mframe\u001b[0m\u001b[0;34m)\u001b[0m\u001b[0;34m\u001b[0m\u001b[0;34m\u001b[0m\u001b[0m\n\u001b[0m\u001b[1;32m     35\u001b[0m     \u001b[0;32mif\u001b[0m \u001b[0mchr\u001b[0m\u001b[0;34m(\u001b[0m\u001b[0mcv2\u001b[0m\u001b[0;34m.\u001b[0m\u001b[0mwaitKey\u001b[0m\u001b[0;34m(\u001b[0m\u001b[0;36m1\u001b[0m\u001b[0;34m)\u001b[0m\u001b[0;34m&\u001b[0m\u001b[0;36m255\u001b[0m\u001b[0;34m)\u001b[0m \u001b[0;34m==\u001b[0m \u001b[0;34m'q'\u001b[0m\u001b[0;34m:\u001b[0m\u001b[0;34m\u001b[0m\u001b[0;34m\u001b[0m\u001b[0m\n\u001b[1;32m     36\u001b[0m         \u001b[0;32mbreak\u001b[0m\u001b[0;34m\u001b[0m\u001b[0;34m\u001b[0m\u001b[0m\n",
      "\u001b[0;32m/usr/local/lib/python3.6/dist-packages/pop/Util.py\u001b[0m in \u001b[0;36mimshow\u001b[0;34m(title, image, width, height, mode)\u001b[0m\n\u001b[1;32m     42\u001b[0m     \u001b[0m_image\u001b[0m\u001b[0;34m=\u001b[0m\u001b[0mwindows\u001b[0m\u001b[0;34m[\u001b[0m\u001b[0mtitle\u001b[0m\u001b[0;34m]\u001b[0m\u001b[0;34m[\u001b[0m\u001b[0;34m\"widget\"\u001b[0m\u001b[0;34m]\u001b[0m\u001b[0;34m\u001b[0m\u001b[0;34m\u001b[0m\u001b[0m\n\u001b[1;32m     43\u001b[0m \u001b[0;34m\u001b[0m\u001b[0m\n\u001b[0;32m---> 44\u001b[0;31m     \u001b[0mh\u001b[0m\u001b[0;34m,\u001b[0m \u001b[0mw\u001b[0m \u001b[0;34m=\u001b[0m \u001b[0mimage\u001b[0m\u001b[0;34m.\u001b[0m\u001b[0mshape\u001b[0m\u001b[0;34m[\u001b[0m\u001b[0;34m:\u001b[0m\u001b[0;36m2\u001b[0m\u001b[0;34m]\u001b[0m\u001b[0;34m\u001b[0m\u001b[0;34m\u001b[0m\u001b[0m\n\u001b[0m\u001b[1;32m     45\u001b[0m     \u001b[0mih\u001b[0m \u001b[0;34m=\u001b[0m \u001b[0mint\u001b[0m\u001b[0;34m(\u001b[0m\u001b[0m_image\u001b[0m\u001b[0;34m.\u001b[0m\u001b[0mheight\u001b[0m\u001b[0;34m)\u001b[0m\u001b[0;34m\u001b[0m\u001b[0;34m\u001b[0m\u001b[0m\n\u001b[1;32m     46\u001b[0m     \u001b[0miw\u001b[0m \u001b[0;34m=\u001b[0m \u001b[0mint\u001b[0m\u001b[0;34m(\u001b[0m\u001b[0m_image\u001b[0m\u001b[0;34m.\u001b[0m\u001b[0mwidth\u001b[0m\u001b[0;34m)\u001b[0m\u001b[0;34m\u001b[0m\u001b[0;34m\u001b[0m\u001b[0m\n",
      "\u001b[0;31mAttributeError\u001b[0m: 'tuple' object has no attribute 'shape'"
     ]
    }
   ],
   "source": []
  },
  {
   "cell_type": "code",
   "execution_count": 74,
   "metadata": {
    "tags": []
   },
   "outputs": [
    {
     "data": {
      "application/vnd.jupyter.widget-view+json": {
       "model_id": "b41e2b1fe7574a678f9957001e29c673",
       "version_major": 2,
       "version_minor": 0
      },
      "text/plain": [
       "Image(value=b'\\xff\\xd8\\xff\\xe0\\x00\\x10JFIF\\x00\\x01\\x01\\x00\\x00\\x01\\x00\\x01\\x00\\x00\\xff\\xdb\\x00C\\x00\\x02\\x01\\x0…"
      ]
     },
     "metadata": {},
     "output_type": "display_data"
    },
    {
     "ename": "KeyboardInterrupt",
     "evalue": "",
     "output_type": "error",
     "traceback": [
      "\u001b[0;31m---------------------------------------------------------------------------\u001b[0m",
      "\u001b[0;31mKeyboardInterrupt\u001b[0m                         Traceback (most recent call last)",
      "\u001b[0;32m<ipython-input-74-2d29889815c3>\u001b[0m in \u001b[0;36m<module>\u001b[0;34m\u001b[0m\n\u001b[1;32m     76\u001b[0m \u001b[0;32mwhile\u001b[0m \u001b[0;32mTrue\u001b[0m\u001b[0;34m:\u001b[0m\u001b[0;34m\u001b[0m\u001b[0;34m\u001b[0m\u001b[0m\n\u001b[1;32m     77\u001b[0m \u001b[0;34m\u001b[0m\u001b[0m\n\u001b[0;32m---> 78\u001b[0;31m     \u001b[0mret\u001b[0m\u001b[0;34m,\u001b[0m \u001b[0mimg\u001b[0m \u001b[0;34m=\u001b[0m\u001b[0mcap\u001b[0m\u001b[0;34m.\u001b[0m\u001b[0mread\u001b[0m\u001b[0;34m(\u001b[0m\u001b[0;34m)\u001b[0m \u001b[0;34m;\u001b[0m \u001b[0mimg\u001b[0m\u001b[0;34m=\u001b[0m\u001b[0mcv2\u001b[0m\u001b[0;34m.\u001b[0m\u001b[0mundistort\u001b[0m\u001b[0;34m(\u001b[0m\u001b[0mimg\u001b[0m\u001b[0;34m,\u001b[0m\u001b[0mcamera_matrix\u001b[0m\u001b[0;34m,\u001b[0m\u001b[0mdist_coeffs\u001b[0m\u001b[0;34m)\u001b[0m\u001b[0;34m\u001b[0m\u001b[0;34m\u001b[0m\u001b[0m\n\u001b[0m\u001b[1;32m     79\u001b[0m \u001b[0;34m\u001b[0m\u001b[0m\n\u001b[1;32m     80\u001b[0m     \u001b[0mcam_cx1\u001b[0m \u001b[0;34m,\u001b[0m \u001b[0mcam_cy1\u001b[0m \u001b[0;34m,\u001b[0m \u001b[0mcontour_cx1\u001b[0m \u001b[0;34m,\u001b[0m \u001b[0mcontour_cy1\u001b[0m \u001b[0;34m=\u001b[0m \u001b[0mGet_center\u001b[0m\u001b[0;34m(\u001b[0m\u001b[0mimg\u001b[0m \u001b[0;34m,\u001b[0m\u001b[0mheight_range\u001b[0m \u001b[0;34m=\u001b[0m \u001b[0;34m(\u001b[0m\u001b[0;36m180\u001b[0m\u001b[0;34m,\u001b[0m\u001b[0;36m280\u001b[0m\u001b[0;34m)\u001b[0m\u001b[0;34m)\u001b[0m\u001b[0;34m\u001b[0m\u001b[0;34m\u001b[0m\u001b[0m\n",
      "\u001b[0;31mKeyboardInterrupt\u001b[0m: "
     ]
    }
   ],
   "source": [
    "import cv2\n",
    "import numpy as np\n",
    "import time\n",
    "from matplotlib import pyplot as plt\n",
    "\n",
    "\n",
    "from pop import Util,Pilot\n",
    "Car=Pilot.AutoCar()\n",
    "Car.camPan(98)\n",
    "Car.camTilt(-15)\n",
    "Util.enable_imshow()\n",
    "\n",
    "cam = Util.gstrmer(width=640,height=480)\n",
    "cap =cv2.VideoCapture(cam,cv2.CAP_GSTREAMER)\n",
    "camera_matrix_file=\"intrinsic_parameters/camera_matrix.npy\"\n",
    "dist_coeffs_file = \"intrinsic_parameters/distortion_coefficients.npy\"\n",
    "\n",
    "camera_matrix=np.load(camera_matrix_file)\n",
    "dist_coeffs=np.load(dist_coeffs_file)\n",
    "\n",
    "\n",
    "#-------------------------------------------------------------------------#\n",
    "\n",
    "\n",
    "def Get_center(img,height_range:tuple , width_range = (320 - 200 , 320 + 200) , min_contour_area = 100 ):\n",
    "    \n",
    "    # get cam center\n",
    "    cam_cx,cam_cy = int ((width_range[0] + width_range[1]) / 2) , int ((height_range[0] + height_range[1]) / 2)\n",
    "    \n",
    "    # convert image by bitwise\n",
    "    crop_img  = img[height_range[0]:height_range[1],width_range[0]:width_range[1]]\n",
    "    gray_img = cv2.cvtColor(crop_img, cv2.COLOR_BGR2GRAY)\n",
    "    ret, thr_img = cv2.threshold( gray_img , 127 , 255 , cv2.THRESH_BINARY )\n",
    "    thr_img = cv2.bitwise_not ( thr_img )\n",
    "    \n",
    "    # get contours\n",
    "    contours , hierarchy = cv2.findContours(thr_img , cv2.RETR_TREE , cv2.CHAIN_APPROX_SIMPLE)\n",
    "    \n",
    "    # IF No contour\n",
    "    if(len(contours) == 0 ) :  return cam_cx, cam_cy ,  cam_cx , cam_cy\n",
    "    \n",
    "    # IF Too small contour area\n",
    "    c = max(contours , key = cv2.contourArea)\n",
    "    M = cv2.moments(c)\n",
    "    if( M['m00'] < min_contour_area ): return cam_cx, cam_cy ,  cam_cx , cam_cy\n",
    "    \n",
    "    \n",
    "    # get center\n",
    "    cx = int(M['m10']/M['m00']) + width_range[0] \n",
    "    cy = int(M['m01']/M['m00']) + height_range[0]\n",
    "\n",
    "    # draw\n",
    "    cv2.drawContours(crop_img, contours, -1, (255,0,0), 3)\n",
    "    cv2.circle(img, (cx,cy), 1,(255,0,0) ,5)\n",
    "    cv2.circle(img, (cam_cx,cam_cy), 1,(0,0,255) ,5)\n",
    "    \n",
    "    #print( cam_cx, cam_cy , cx , cy ) ; print( M['m00'] )  ; print(len(contours ))\n",
    "    return cam_cx, cam_cy , cx , cy\n",
    "\n",
    "\n",
    "\n",
    "#-------------------------------------------------------------------------#\n",
    "prior_error =0; I =0\n",
    "def Get_pid_value(error, Kp , Ki , Kd):  \n",
    "    global prior_error, I\n",
    "    P = error \n",
    "    I = I+error \n",
    "    D = error - prior_error\n",
    "    \n",
    "    pid_value = P*Kp + I*Ki + D*Kd\n",
    "    \n",
    "    prior_error = error\n",
    "    return pid_value / -200\n",
    "    \n",
    "#-------------------------------------------------------------------------#\n",
    "while True:\n",
    "    \n",
    "    ret, img =cap.read() ; img=cv2.undistort(img,camera_matrix,dist_coeffs)\n",
    "\n",
    "    cam_cx1 , cam_cy1 , contour_cx1 , contour_cy1 = Get_center(img ,height_range = (180,280))\n",
    "    cam_cx2 , cam_cy2 , contour_cx2 , contour_cy2 = Get_center(img ,height_range = (280,380))\n",
    "    cam_cx3 , cam_cy3 , contour_cx3 , contour_cy3 = Get_center(img ,height_range = (380,480))\n",
    "    \n",
    "    cv2.putText(img, str(cam_cx1 - contour_cx1) , (cam_cx1,cam_cy1),  cv2.FONT_HERSHEY_SIMPLEX, 1, (0,0,255), 3)\n",
    "    cv2.putText(img, str(cam_cx2 - contour_cx2) , (cam_cx2,cam_cy2),  cv2.FONT_HERSHEY_SIMPLEX, 1, (0,0,255), 3)\n",
    "    cv2.putText(img, str(cam_cx3 - contour_cx3) , (cam_cx3,cam_cy3),  cv2.FONT_HERSHEY_SIMPLEX, 1, (0,0,255), 3)\n",
    "\n",
    "    error1 = cam_cx1 - contour_cx1\n",
    "    error2 = cam_cx2 - contour_cx2\n",
    "    error3 = cam_cx3 - contour_cx3\n",
    "    error = 0.5* error3 + 0.3*error2 + 0.2*error1\n",
    "    pid_value = Get_pid_value(error,1,0,0)\n",
    "    \n",
    "    \n",
    "    #Car.steering=pid_value\n",
    "    #Car.forward(40)\n",
    "    \n",
    "    \n",
    "    cv2.imshow('img', img)    \n",
    "    \n",
    "#-------------------------------------------------------------------------#\n",
    "cap.release()\n",
    "cv2.destroyAllWindows()"
   ]
  },
  {
   "cell_type": "code",
   "execution_count": 12,
   "metadata": {},
   "outputs": [
    {
     "name": "stdout",
     "output_type": "stream",
     "text": [
      "1\n"
     ]
    },
    {
     "data": {
      "application/vnd.jupyter.widget-view+json": {
       "model_id": "34d2dc03cfc84c70b46b6f01588b7cfd",
       "version_major": 2,
       "version_minor": 0
      },
      "text/plain": [
       "Image(value=b'\\xff\\xd8\\xff\\xe0\\x00\\x10JFIF\\x00\\x01\\x01\\x00\\x00\\x01\\x00\\x01\\x00\\x00\\xff\\xdb\\x00C\\x00\\x02\\x01\\x0…"
      ]
     },
     "metadata": {},
     "output_type": "display_data"
    }
   ],
   "source": [
    "import cv2\n",
    "import numpy as np\n",
    "import time\n",
    "from matplotlib import pyplot as plt\n",
    "from pop import Util,Pilot\n",
    "\n",
    "\n",
    "\n",
    "\n",
    "\n",
    "Util.enable_imshow()\n",
    "cam = Util.gstrmer(width=640,height=480)\n",
    "cap =cv2.VideoCapture(cam,cv2.CAP_GSTREAMER)\n",
    "#----\n",
    "\n",
    "print(cv2.CAP_PROP_POS_FRAMES)\n",
    "\n",
    "\n",
    "\n",
    "#---\n",
    "camera_matrix_file=\"intrinsic_parameters/camera_matrix.npy\"\n",
    "dist_coeffs_file = \"intrinsic_parameters/distortion_coefficients.npy\"\n",
    "camera_matrix=np.load(camera_matrix_file)\n",
    "dist_coeffs=np.load(dist_coeffs_file)\n",
    "\n",
    "\n",
    "\n",
    "\n",
    "\n",
    "\n",
    "\n",
    "#cap.set(cv2.CAP_PROP_POS_FRAMES,0)\n",
    "ret, img =cap.read() \n",
    "cv2.imshow('g',img)\n"
   ]
  },
  {
   "cell_type": "code",
   "execution_count": 31,
   "metadata": {},
   "outputs": [
    {
     "data": {
      "application/vnd.jupyter.widget-view+json": {
       "model_id": "8e6ad41a67c14403b2f07ad8d930a71b",
       "version_major": 2,
       "version_minor": 0
      },
      "text/plain": [
       "Image(value=b'\\xff\\xd8\\xff\\xe0\\x00\\x10JFIF\\x00\\x01\\x01\\x00\\x00\\x01\\x00\\x01\\x00\\x00\\xff\\xdb\\x00C\\x00\\x02\\x01\\x0…"
      ]
     },
     "metadata": {},
     "output_type": "display_data"
    },
    {
     "name": "stdout",
     "output_type": "stream",
     "text": [
      "0.0\n"
     ]
    }
   ],
   "source": [
    "ret, img =cap.read() \n",
    "cv2.imshow('g',img)\n",
    "print ( cap.get(cv2.CAP_PROP_BUFFERSIZE) ) "
   ]
  },
  {
   "cell_type": "code",
   "execution_count": 18,
   "metadata": {},
   "outputs": [],
   "source": [
    "import cv2\n",
    "import numpy as np\n",
    "import time\n",
    "from matplotlib import pyplot as plt\n",
    "from pop import Util,Pilot\n",
    "\n",
    "\n",
    "\n",
    "\n",
    "Car=Pilot.AutoCar()\n",
    "Car.camPan(98)\n",
    "Car.camTilt(-15)\n",
    "Util.enable_imshow()\n",
    "\n",
    "cam = Util.gstrmer(width=640,height=480)\n",
    "cap =cv2.VideoCapture(cam,cv2.CAP_GSTREAMER)\n",
    "camera_matrix_file=\"intrinsic_parameters/camera_matrix.npy\"\n",
    "dist_coeffs_file = \"intrinsic_parameters/distortion_coefficients.npy\"\n",
    "\n",
    "\n",
    "\n",
    "camera_matrix=np.load(camera_matrix_file)\n",
    "dist_coeffs=np.load(dist_coeffs_file)\n",
    "\n",
    "\n"
   ]
  },
  {
   "cell_type": "code",
   "execution_count": null,
   "metadata": {},
   "outputs": [
    {
     "data": {
      "application/vnd.jupyter.widget-view+json": {
       "model_id": "773b608b51cc4055841dbe6948dd4842",
       "version_major": 2,
       "version_minor": 0
      },
      "text/plain": [
       "Image(value=b'\\xff\\xd8\\xff\\xe0\\x00\\x10JFIF\\x00\\x01\\x01\\x00\\x00\\x01\\x00\\x01\\x00\\x00\\xff\\xdb\\x00C\\x00\\x02\\x01\\x0…"
      ]
     },
     "metadata": {},
     "output_type": "display_data"
    }
   ],
   "source": [
    "#most fur\n",
    "w1= 1.5\n",
    "w2= 1.5\n",
    "w3= 0.7\n",
    "Kp=1\n",
    "Ki=0 \n",
    "Kd=0\n",
    "\n",
    "\n",
    "\n",
    "def Get_range_value(value):\n",
    "    if(value>1):return 1\n",
    "    elif(value<-1):return -1\n",
    "    return value\n",
    "\n",
    "def Get_error(img, cam_cx , cam_cy , contour_cx , contour_cy ):\n",
    "    #height = 480 - contour_cy \n",
    "    error = ( ( contour_cx - cam_cx   ) / 320 )\n",
    "    cv2.putText(img, str(\"%.2f\"%error) , (cam_cx,cam_cy),  cv2.FONT_HERSHEY_SIMPLEX, 1, (0,0,255), 3 )\n",
    "                \n",
    "    return error\n",
    "def Preprocesing( img ):\n",
    "\n",
    "    # PreProcessing----------------------------------------------------------\n",
    "    \n",
    "    # HSV image \n",
    "    img_hsv = cv2.cvtColor(img, cv2.COLOR_BGR2HSV) \n",
    "    \n",
    "    # Normalization\n",
    "    #img_hsv[:,:,1]  = cv2.normalize(img_hsv[:,:,1],None, 0, 255, cv2.NORM_MINMAX)\n",
    "    #img_hsv[:,:,2]  = cv2.normalize(img_hsv[:,:,2],None, 0, 255, cv2.NORM_MINMAX)\n",
    "    \n",
    "    # bitwise \n",
    "    lower_green = (85, 40 , 40)\n",
    "    upper_green =  (130, 255, 255)\n",
    "    img_mask = cv2.inRange( img_hsv  , lower_green, upper_green)\n",
    "    \n",
    "    # blur\n",
    "    \n",
    "    # erode + dilat\n",
    "    #cv2.imshow('img',img_mask)\n",
    "    \n",
    "    '''\n",
    "    kernel = np.ones((9,9) , np.uint8)\n",
    "    openin_img = cv2.morphologyEx(img_mask, cv2.MORPH_OPEN, kernel)\n",
    "    '''\n",
    "    \n",
    "    kernel = np.ones((8,8) , np.uint8)\n",
    "    img_erode  = cv2.erode(img_mask, kernel)\n",
    "    kernel = np.ones((11,11) , np.uint8)\n",
    "    img_dilat = cv2.dilate(img_erode, kernel)\n",
    "    \n",
    "    \n",
    "    \n",
    "    \n",
    "    return img_dilat\n",
    "    \n",
    "    \n",
    "    \n",
    "#-------------------------------------------------------------------------#\n",
    "\n",
    "\n",
    "    \n",
    "def Get_center(img,processed_img,height_range:tuple , width_range = (320 - 320 , 320 + 320) , min_contour_area = 100 ):\n",
    "\n",
    "    # get cam center\n",
    "    cam_cx,cam_cy = int ((width_range[0] + width_range[1]) / 2) , int ((height_range[0] + height_range[1]) / 2)\n",
    "    \n",
    "    # Crops image\n",
    "    crop_img  = img[height_range[0]:height_range[1],width_range[0]:width_range[1]]\n",
    "    corp_processed_img = processed_img[height_range[0]:height_range[1],width_range[0]:width_range[1]]\n",
    "    \n",
    "    # Get conotur\n",
    "    contours , hierarchy = cv2.findContours(corp_processed_img , cv2.RETR_TREE , cv2.CHAIN_APPROX_SIMPLE)\n",
    "    # IF NO contour \n",
    "    if(len(contours) == 0 ) :  return cam_cx, cam_cy ,  cam_cx , cam_cy , False\n",
    "    # Get approx contour\n",
    "    c = max(contours , key = cv2.contourArea)\n",
    "    peri = cv2.arcLength(c, True)\n",
    "    approx = np.array( cv2.approxPolyDP(c, peri * 0.005 , True) )\n",
    "    M = cv2.moments(approx)\n",
    "    # IF TOO small contour area \n",
    "    if( M['m00'] < min_contour_area ): return cam_cx, cam_cy ,  cam_cx , cam_cy , False\n",
    "    \n",
    "\n",
    "    \n",
    "    \n",
    "    \n",
    "    # get center\n",
    "    cx = int(M['m10']/M['m00']) + width_range[0] \n",
    "    cy = int(M['m01']/M['m00']) + height_range[0]\n",
    "\n",
    "    # draw\n",
    "    cv2.drawContours(crop_img, [approx] , -1, (255,0,0), 3)\n",
    "    cv2.circle(img, (cx,cy), 1,(255,0,0) ,5)\n",
    "    cv2.circle(img, (cam_cx,cam_cy), 1,(0,0,255) ,5)\n",
    "    \n",
    "    \n",
    "    return cam_cx, cam_cy , cx , cy , True\n",
    "\n",
    "\n",
    "\n",
    "\n",
    "#-------------------------------------------------------------------------#\n",
    "prior_error =0; I =0\n",
    "def Get_pid_value(error, Kp , Ki , Kd):  \n",
    "    global prior_error, I\n",
    "    P = error \n",
    "    I = I+error \n",
    "    D = error - prior_error\n",
    "    \n",
    "    pid_value = Get_range_value ( P*Kp + I*Ki + D*Kd )\n",
    "    prior_error = error\n",
    "    \n",
    "    \n",
    "    \n",
    "    \n",
    "    return pid_value\n",
    "    \n",
    "#-------------------------------------------------------------------------#\n",
    "\n",
    "Car.forward(99)\n",
    "\n",
    "frame = 0 ; pid_value = 0\n",
    "while True:\n",
    "    \n",
    "    ret, img =cap.read() ; img=cv2.undistort(img,camera_matrix,dist_coeffs)\n",
    "    preprosed_img = Preprocesing( img )\n",
    "    frame += 1 ; check = 0 ;  error = 0 \n",
    "    \n",
    "\n",
    "\n",
    "    cam_cx1 , cam_cy1 , contour_cx1 , contour_cy1 , check1 = Get_center(img ,preprosed_img,height_range = (80,180))\n",
    "    cam_cx2 , cam_cy2 , contour_cx2 , contour_cy2 , check2 = Get_center(img ,preprosed_img,height_range = (180,280))\n",
    "    cam_cx3 , cam_cy3 , contour_cx3 , contour_cy3 , check3 = Get_center(img ,preprosed_img,height_range = (280,380))\n",
    "    \n",
    "   \n",
    "    if(check1) : error = error + Get_error(img,cam_cx1 , cam_cy1 , contour_cx1 , contour_cy1 )  *w1  ; check += 1 \n",
    "    if(check2) : error = error + Get_error(img,cam_cx2 , cam_cy2 , contour_cx2 , contour_cy2 )  *w2  ; check += 1\n",
    "    if(check3) : error = error + Get_error(img,cam_cx3 , cam_cy3 , contour_cx3 , contour_cy3 )  *w3  ; check += 1\n",
    "    \n",
    "                \n",
    "                \n",
    "\n",
    "    if(frame%10 == 0):\n",
    "        if(check > 0) : \n",
    "            pid_value = Get_pid_value(error/check,Kp , Ki , Kd)\n",
    "            Car.steering=pid_value\n",
    "            #cap.release()\n",
    "            #cap =cv2.VideoCapture(cam,cv2.CAP_GSTREAMER)\n",
    "    cv2.putText(img, str(\"PID : %.2f\"%pid_value) , (30,30),  cv2.FONT_HERSHEY_SIMPLEX, 1, (0,0,255), 3 )\n",
    "\n",
    "    cv2.imshow('img',img)\n",
    "        \n",
    "            \n",
    "#-------------------------------------------------------------------------#"
   ]
  },
  {
   "cell_type": "code",
   "execution_count": 16,
   "metadata": {},
   "outputs": [],
   "source": [
    "cap.release()\n",
    "cv2.destroyAllWindows()\n",
    "Car.stop()"
   ]
  },
  {
   "cell_type": "code",
   "execution_count": 9,
   "metadata": {},
   "outputs": [],
   "source": [
    "cam = Util.gstrmer(width=640,height=480)\n",
    "cap =cv2.VideoCapture(cam,cv2.CAP_GSTREAMER)\n",
    "camera_matrix_file=\"intrinsic_parameters/camera_matrix.npy\"\n",
    "dist_coeffs_file = \"intrinsic_parameters/distortion_coefficients.npy\"\n",
    "\n",
    "\n",
    "\n",
    "camera_matrix=np.load(camera_matrix_file)\n",
    "dist_coeffs=np.load(dist_coeffs_file)\n"
   ]
  },
  {
   "cell_type": "code",
   "execution_count": 19,
   "metadata": {},
   "outputs": [
    {
     "name": "stdout",
     "output_type": "stream",
     "text": [
      "a "
     ]
    },
    {
     "data": {
      "application/vnd.jupyter.widget-view+json": {
       "model_id": "3b5191ff86764f2ca130d1a3de7ee65f",
       "version_major": 2,
       "version_minor": 0
      },
      "text/plain": [
       "Image(value=b'\\xff\\xd8\\xff\\xe0\\x00\\x10JFIF\\x00\\x01\\x01\\x00\\x00\\x01\\x00\\x01\\x00\\x00\\xff\\xdb\\x00C\\x00\\x02\\x01\\x0…"
      ]
     },
     "metadata": {},
     "output_type": "display_data"
    },
    {
     "name": "stdout",
     "output_type": "stream",
     "text": [
      "a a a a a a a a a a a a a a a a a a a a a a a a a a a a a a a a a a a a a a a a a a a a a a a a a a a a a a a a a a a a a a a a a a a "
     ]
    },
    {
     "ename": "KeyboardInterrupt",
     "evalue": "",
     "output_type": "error",
     "traceback": [
      "\u001b[0;31m---------------------------------------------------------------------------\u001b[0m",
      "\u001b[0;31mKeyboardInterrupt\u001b[0m                         Traceback (most recent call last)",
      "\u001b[0;32m<ipython-input-19-6e8a2b1cc388>\u001b[0m in \u001b[0;36m<module>\u001b[0;34m\u001b[0m\n\u001b[1;32m      8\u001b[0m     \u001b[0mcv2\u001b[0m\u001b[0;34m.\u001b[0m\u001b[0mimshow\u001b[0m\u001b[0;34m(\u001b[0m\u001b[0;34m'img'\u001b[0m\u001b[0;34m,\u001b[0m\u001b[0mimg\u001b[0m\u001b[0;34m)\u001b[0m\u001b[0;34m\u001b[0m\u001b[0;34m\u001b[0m\u001b[0m\n\u001b[1;32m      9\u001b[0m \u001b[0;34m\u001b[0m\u001b[0m\n\u001b[0;32m---> 10\u001b[0;31m     \u001b[0mCar\u001b[0m\u001b[0;34m.\u001b[0m\u001b[0mstop\u001b[0m\u001b[0;34m(\u001b[0m\u001b[0;34m)\u001b[0m\u001b[0;34m\u001b[0m\u001b[0;34m\u001b[0m\u001b[0m\n\u001b[0m\u001b[1;32m     11\u001b[0m \u001b[0;34m\u001b[0m\u001b[0m\n\u001b[1;32m     12\u001b[0m \u001b[0;34m\u001b[0m\u001b[0m\n",
      "\u001b[0;32m/usr/local/lib/python3.6/dist-packages/pop/Pilot.py\u001b[0m in \u001b[0;36mstop\u001b[0;34m(self)\u001b[0m\n\u001b[1;32m    565\u001b[0m \u001b[0;34m\u001b[0m\u001b[0m\n\u001b[1;32m    566\u001b[0m     \u001b[0;32mdef\u001b[0m \u001b[0mstop\u001b[0m\u001b[0;34m(\u001b[0m\u001b[0mself\u001b[0m\u001b[0;34m)\u001b[0m\u001b[0;34m:\u001b[0m\u001b[0;34m\u001b[0m\u001b[0;34m\u001b[0m\u001b[0m\n\u001b[0;32m--> 567\u001b[0;31m         \u001b[0mself\u001b[0m\u001b[0;34m.\u001b[0m\u001b[0mdrv\u001b[0m\u001b[0;34m.\u001b[0m\u001b[0mstop\u001b[0m\u001b[0;34m(\u001b[0m\u001b[0;34m)\u001b[0m\u001b[0;34m\u001b[0m\u001b[0;34m\u001b[0m\u001b[0m\n\u001b[0m\u001b[1;32m    568\u001b[0m \u001b[0;34m\u001b[0m\u001b[0m\n\u001b[1;32m    569\u001b[0m     \u001b[0;32mdef\u001b[0m \u001b[0mforward\u001b[0m\u001b[0;34m(\u001b[0m\u001b[0mself\u001b[0m\u001b[0;34m,\u001b[0m \u001b[0mspeed\u001b[0m\u001b[0;34m=\u001b[0m\u001b[0;32mNone\u001b[0m\u001b[0;34m)\u001b[0m\u001b[0;34m:\u001b[0m\u001b[0;34m\u001b[0m\u001b[0;34m\u001b[0m\u001b[0m\n",
      "\u001b[0;32m/usr/local/lib/python3.6/dist-packages/pop/Pilot.py\u001b[0m in \u001b[0;36mstop\u001b[0;34m(self)\u001b[0m\n\u001b[1;32m    212\u001b[0m             \u001b[0mself\u001b[0m\u001b[0;34m.\u001b[0m\u001b[0mpwm\u001b[0m\u001b[0;34m.\u001b[0m\u001b[0msetDuty\u001b[0m\u001b[0;34m(\u001b[0m\u001b[0mDriving\u001b[0m\u001b[0;34m.\u001b[0m\u001b[0mGPIO_RIGHT_BACKWARD\u001b[0m\u001b[0;34m,\u001b[0m \u001b[0;36m0\u001b[0m\u001b[0;34m)\u001b[0m\u001b[0;34m\u001b[0m\u001b[0;34m\u001b[0m\u001b[0m\n\u001b[1;32m    213\u001b[0m             \u001b[0mself\u001b[0m\u001b[0;34m.\u001b[0m\u001b[0mpwm\u001b[0m\u001b[0;34m.\u001b[0m\u001b[0msetDuty\u001b[0m\u001b[0;34m(\u001b[0m\u001b[0mDriving\u001b[0m\u001b[0;34m.\u001b[0m\u001b[0mGPIO_LEFT_FORWARD\u001b[0m\u001b[0;34m,\u001b[0m \u001b[0;36m0\u001b[0m\u001b[0;34m)\u001b[0m\u001b[0;34m\u001b[0m\u001b[0;34m\u001b[0m\u001b[0m\n\u001b[0;32m--> 214\u001b[0;31m             \u001b[0mself\u001b[0m\u001b[0;34m.\u001b[0m\u001b[0mpwm\u001b[0m\u001b[0;34m.\u001b[0m\u001b[0msetDuty\u001b[0m\u001b[0;34m(\u001b[0m\u001b[0mDriving\u001b[0m\u001b[0;34m.\u001b[0m\u001b[0mGPIO_RIGHT_FORWARD\u001b[0m\u001b[0;34m,\u001b[0m \u001b[0;36m0\u001b[0m\u001b[0;34m)\u001b[0m\u001b[0;34m\u001b[0m\u001b[0;34m\u001b[0m\u001b[0m\n\u001b[0m\u001b[1;32m    215\u001b[0m             \u001b[0mself\u001b[0m\u001b[0;34m.\u001b[0m\u001b[0mpwm\u001b[0m\u001b[0;34m.\u001b[0m\u001b[0msetDuty\u001b[0m\u001b[0;34m(\u001b[0m\u001b[0mDriving\u001b[0m\u001b[0;34m.\u001b[0m\u001b[0mGPIO_LEFT_BACKWARD\u001b[0m\u001b[0;34m,\u001b[0m \u001b[0;36m0\u001b[0m\u001b[0;34m)\u001b[0m\u001b[0;34m\u001b[0m\u001b[0;34m\u001b[0m\u001b[0m\n\u001b[1;32m    216\u001b[0m         \u001b[0;32melif\u001b[0m \u001b[0m_cat\u001b[0m\u001b[0;34m==\u001b[0m\u001b[0;36m5\u001b[0m\u001b[0;34m:\u001b[0m\u001b[0;34m\u001b[0m\u001b[0;34m\u001b[0m\u001b[0m\n",
      "\u001b[0;32m/usr/local/lib/python3.6/dist-packages/pop/Pilot.py\u001b[0m in \u001b[0;36msetDuty\u001b[0;34m(self, channel, duty)\u001b[0m\n\u001b[1;32m     61\u001b[0m \u001b[0;34m\u001b[0m\u001b[0m\n\u001b[1;32m     62\u001b[0m         \u001b[0;32mif\u001b[0m \u001b[0mself\u001b[0m\u001b[0;34m.\u001b[0m\u001b[0mwait_i2c\u001b[0m\u001b[0;34m:\u001b[0m\u001b[0;34m\u001b[0m\u001b[0;34m\u001b[0m\u001b[0m\n\u001b[0;32m---> 63\u001b[0;31m             \u001b[0;32mwhile\u001b[0m \u001b[0mtime\u001b[0m\u001b[0;34m.\u001b[0m\u001b[0mtime\u001b[0m\u001b[0;34m(\u001b[0m\u001b[0;34m)\u001b[0m\u001b[0;34m-\u001b[0m\u001b[0m__main__\u001b[0m\u001b[0;34m.\u001b[0m\u001b[0mpwm_time_log\u001b[0m\u001b[0;34m<\u001b[0m\u001b[0;36m0.05\u001b[0m\u001b[0;34m:\u001b[0m \u001b[0mtime\u001b[0m\u001b[0;34m.\u001b[0m\u001b[0msleep\u001b[0m\u001b[0;34m(\u001b[0m\u001b[0;36m0.01\u001b[0m\u001b[0;34m)\u001b[0m\u001b[0;34m\u001b[0m\u001b[0;34m\u001b[0m\u001b[0m\n\u001b[0m\u001b[1;32m     64\u001b[0m         \u001b[0mself\u001b[0m\u001b[0;34m.\u001b[0m\u001b[0m_writeByte\u001b[0m\u001b[0;34m(\u001b[0m\u001b[0mself\u001b[0m\u001b[0;34m.\u001b[0m\u001b[0m_base_adr_low\u001b[0m \u001b[0;34m+\u001b[0m \u001b[0;36m4\u001b[0m \u001b[0;34m*\u001b[0m \u001b[0mchannel\u001b[0m\u001b[0;34m,\u001b[0m \u001b[0mdata\u001b[0m \u001b[0;34m&\u001b[0m \u001b[0;36m0xFF\u001b[0m\u001b[0;34m)\u001b[0m\u001b[0;34m\u001b[0m\u001b[0;34m\u001b[0m\u001b[0m\n\u001b[1;32m     65\u001b[0m         \u001b[0mself\u001b[0m\u001b[0;34m.\u001b[0m\u001b[0m_writeByte\u001b[0m\u001b[0;34m(\u001b[0m\u001b[0mself\u001b[0m\u001b[0;34m.\u001b[0m\u001b[0m_base_adr_high\u001b[0m \u001b[0;34m+\u001b[0m \u001b[0;36m4\u001b[0m \u001b[0;34m*\u001b[0m \u001b[0mchannel\u001b[0m\u001b[0;34m,\u001b[0m \u001b[0mdata\u001b[0m \u001b[0;34m>>\u001b[0m \u001b[0;36m8\u001b[0m\u001b[0;34m)\u001b[0m\u001b[0;34m\u001b[0m\u001b[0;34m\u001b[0m\u001b[0m\n",
      "\u001b[0;31mKeyboardInterrupt\u001b[0m: "
     ]
    }
   ],
   "source": [
    "while True:\n",
    "\n",
    "    ret, img =cap.read() ; img=cv2.undistort(img,camera_matrix,dist_coeffs)\n",
    "\n",
    "        \n",
    "\n",
    "    print('a',end=' ')\n",
    "    cv2.imshow('img',img)\n",
    "    \n",
    "    Car.stop()\n",
    "\n",
    "\n",
    "\n"
   ]
  },
  {
   "cell_type": "code",
   "execution_count": 7,
   "metadata": {},
   "outputs": [
    {
     "ename": "error",
     "evalue": "OpenCV(4.2.0) /home/soda/opencv/modules/imgproc/src/contours.cpp:197: error: (-210:Unsupported format or combination of formats) [Start]FindContours supports only CV_8UC1 images when mode != CV_RETR_FLOODFILL otherwise supports CV_32SC1 images only in function 'cvStartFindContours_Impl'\n",
     "output_type": "error",
     "traceback": [
      "\u001b[0;31m---------------------------------------------------------------------------\u001b[0m",
      "\u001b[0;31merror\u001b[0m                                     Traceback (most recent call last)",
      "\u001b[0;32m<ipython-input-7-e8131dd14e01>\u001b[0m in \u001b[0;36m<module>\u001b[0;34m\u001b[0m\n\u001b[1;32m     82\u001b[0m     \u001b[0mret\u001b[0m\u001b[0;34m,\u001b[0m \u001b[0mimg\u001b[0m \u001b[0;34m=\u001b[0m\u001b[0mcap\u001b[0m\u001b[0;34m.\u001b[0m\u001b[0mread\u001b[0m\u001b[0;34m(\u001b[0m\u001b[0;34m)\u001b[0m \u001b[0;34m;\u001b[0m \u001b[0mimg\u001b[0m\u001b[0;34m=\u001b[0m\u001b[0mcv2\u001b[0m\u001b[0;34m.\u001b[0m\u001b[0mundistort\u001b[0m\u001b[0;34m(\u001b[0m\u001b[0mimg\u001b[0m\u001b[0;34m,\u001b[0m\u001b[0mcamera_matrix\u001b[0m\u001b[0;34m,\u001b[0m\u001b[0mdist_coeffs\u001b[0m\u001b[0;34m)\u001b[0m\u001b[0;34m\u001b[0m\u001b[0;34m\u001b[0m\u001b[0m\n\u001b[1;32m     83\u001b[0m \u001b[0;34m\u001b[0m\u001b[0m\n\u001b[0;32m---> 84\u001b[0;31m     \u001b[0mcam_cx0\u001b[0m \u001b[0;34m,\u001b[0m \u001b[0mcam_cy0\u001b[0m \u001b[0;34m,\u001b[0m \u001b[0mcontour_cx0\u001b[0m \u001b[0;34m,\u001b[0m \u001b[0mcontour_cy0\u001b[0m\u001b[0;34m,\u001b[0m \u001b[0mcheck0\u001b[0m \u001b[0;34m=\u001b[0m \u001b[0mGet_center\u001b[0m\u001b[0;34m(\u001b[0m\u001b[0mimg\u001b[0m \u001b[0;34m,\u001b[0m\u001b[0mheight_range\u001b[0m \u001b[0;34m=\u001b[0m \u001b[0;34m(\u001b[0m\u001b[0;36m0\u001b[0m\u001b[0;34m,\u001b[0m\u001b[0;36m180\u001b[0m\u001b[0;34m)\u001b[0m\u001b[0;34m)\u001b[0m\u001b[0;34m\u001b[0m\u001b[0;34m\u001b[0m\u001b[0m\n\u001b[0m\u001b[1;32m     85\u001b[0m     \u001b[0mcam_cx1\u001b[0m \u001b[0;34m,\u001b[0m \u001b[0mcam_cy1\u001b[0m \u001b[0;34m,\u001b[0m \u001b[0mcontour_cx1\u001b[0m \u001b[0;34m,\u001b[0m \u001b[0mcontour_cy1\u001b[0m \u001b[0;34m,\u001b[0m \u001b[0mcheck1\u001b[0m \u001b[0;34m=\u001b[0m \u001b[0mGet_center\u001b[0m\u001b[0;34m(\u001b[0m\u001b[0mimg\u001b[0m \u001b[0;34m,\u001b[0m\u001b[0mheight_range\u001b[0m \u001b[0;34m=\u001b[0m \u001b[0;34m(\u001b[0m\u001b[0;36m180\u001b[0m\u001b[0;34m,\u001b[0m\u001b[0;36m280\u001b[0m\u001b[0;34m)\u001b[0m\u001b[0;34m)\u001b[0m\u001b[0;34m\u001b[0m\u001b[0;34m\u001b[0m\u001b[0m\n\u001b[1;32m     86\u001b[0m     \u001b[0mcam_cx2\u001b[0m \u001b[0;34m,\u001b[0m \u001b[0mcam_cy2\u001b[0m \u001b[0;34m,\u001b[0m \u001b[0mcontour_cx2\u001b[0m \u001b[0;34m,\u001b[0m \u001b[0mcontour_cy2\u001b[0m \u001b[0;34m,\u001b[0m \u001b[0mcheck2\u001b[0m \u001b[0;34m=\u001b[0m \u001b[0mGet_center\u001b[0m\u001b[0;34m(\u001b[0m\u001b[0mimg\u001b[0m \u001b[0;34m,\u001b[0m\u001b[0mheight_range\u001b[0m \u001b[0;34m=\u001b[0m \u001b[0;34m(\u001b[0m\u001b[0;36m280\u001b[0m\u001b[0;34m,\u001b[0m\u001b[0;36m380\u001b[0m\u001b[0;34m)\u001b[0m\u001b[0;34m)\u001b[0m\u001b[0;34m\u001b[0m\u001b[0;34m\u001b[0m\u001b[0m\n",
      "\u001b[0;32m<ipython-input-7-e8131dd14e01>\u001b[0m in \u001b[0;36mGet_center\u001b[0;34m(img, height_range, width_range, min_contour_area)\u001b[0m\n\u001b[1;32m     36\u001b[0m \u001b[0;34m\u001b[0m\u001b[0m\n\u001b[1;32m     37\u001b[0m     \u001b[0;31m# get contours\u001b[0m\u001b[0;34m\u001b[0m\u001b[0;34m\u001b[0m\u001b[0;34m\u001b[0m\u001b[0m\n\u001b[0;32m---> 38\u001b[0;31m     \u001b[0mcontours\u001b[0m \u001b[0;34m,\u001b[0m \u001b[0mhierarchy\u001b[0m \u001b[0;34m=\u001b[0m \u001b[0mcv2\u001b[0m\u001b[0;34m.\u001b[0m\u001b[0mfindContours\u001b[0m\u001b[0;34m(\u001b[0m\u001b[0mimg_mask\u001b[0m \u001b[0;34m,\u001b[0m \u001b[0mcv2\u001b[0m\u001b[0;34m.\u001b[0m\u001b[0mRETR_TREE\u001b[0m \u001b[0;34m,\u001b[0m \u001b[0mcv2\u001b[0m\u001b[0;34m.\u001b[0m\u001b[0mCHAIN_APPROX_SIMPLE\u001b[0m\u001b[0;34m)\u001b[0m\u001b[0;34m\u001b[0m\u001b[0;34m\u001b[0m\u001b[0m\n\u001b[0m\u001b[1;32m     39\u001b[0m \u001b[0;34m\u001b[0m\u001b[0m\n\u001b[1;32m     40\u001b[0m     \u001b[0;31m# IF No contour\u001b[0m\u001b[0;34m\u001b[0m\u001b[0;34m\u001b[0m\u001b[0;34m\u001b[0m\u001b[0m\n",
      "\u001b[0;31merror\u001b[0m: OpenCV(4.2.0) /home/soda/opencv/modules/imgproc/src/contours.cpp:197: error: (-210:Unsupported format or combination of formats) [Start]FindContours supports only CV_8UC1 images when mode != CV_RETR_FLOODFILL otherwise supports CV_32SC1 images only in function 'cvStartFindContours_Impl'\n"
     ]
    }
   ],
   "source": [
    "import cv2\n",
    "import numpy as np\n",
    "import time\n",
    "from matplotlib import pyplot as plt\n",
    "\n",
    "\n",
    "from pop import Util,Pilot\n",
    "Car=Pilot.AutoCar()\n",
    "Car.camPan(98)\n",
    "Car.camTilt(-15)\n",
    "Util.enable_imshow()\n",
    "\n",
    "cam = Util.gstrmer(width=640,height=480)\n",
    "cap =cv2.VideoCapture(cam,cv2.CAP_GSTREAMER)\n",
    "camera_matrix_file=\"intrinsic_parameters/camera_matrix.npy\"\n",
    "dist_coeffs_file = \"intrinsic_parameters/distortion_coefficients.npy\"\n",
    "\n",
    "camera_matrix=np.load(camera_matrix_file)\n",
    "dist_coeffs=np.load(dist_coeffs_file)\n",
    "\n",
    "\n",
    "#-------------------------------------------------------------------------#\n",
    "\n",
    "def Preprocesing( img ):\n",
    "\n",
    "    # PreProcessing----------------------------------------------------------\n",
    "    \n",
    "    # HSV image \n",
    "    img_hsv = cv2.cvtColor(img, cv2.COLOR_BGR2HSV) \n",
    "    \n",
    "    # Normalization\n",
    "    #img_hsv[:,:,1]  = cv2.normalize(img_hsv[:,:,1],None, 0, 255, cv2.NORM_MINMAX)\n",
    "    #img_hsv[:,:,2]  = cv2.normalize(img_hsv[:,:,2],None, 0, 255, cv2.NORM_MINMAX)\n",
    "\n",
    "    # bitwise \n",
    "    lower_green = (85, 30 , 30)\n",
    "    upper_green =  (130, 255, 255)\n",
    "    img_mask = cv2.inRange( img_hsv  , lower_green, upper_green)\n",
    "    \n",
    "    # blur\n",
    "    \n",
    "    # erode + dilat\n",
    "    '''\n",
    "    kernel = np.ones((11,11) , np.uint8)\n",
    "    openin_img = cv2.morphologyEx(img_mask, cv2.MORPH_OPEN, kernel)\n",
    "    '''\n",
    "    \n",
    "    kernel = np.ones((11,11) , np.uint8)\n",
    "    img_erode  = cv2.erode(img_mask, kernel)\n",
    "    kernel = np.ones((13,13) , np.uint8)\n",
    "    img_dilat = cv2.dilate(img_erode, kernel)\n",
    "    \n",
    "    return img_dilat\n",
    "    \n",
    "    \n",
    "    \n",
    "    \n",
    "def Get_center(img,processed_img,height_range:tuple , width_range = (320 - 320 , 320 + 320) , min_contour_area = 100 ):\n",
    "\n",
    "    # get cam center\n",
    "    cam_cx,cam_cy = int ((width_range[0] + width_range[1]) / 2) , int ((height_range[0] + height_range[1]) / 2)\n",
    "    \n",
    "    # Crops image\n",
    "    crop_img  = img[height_range[0]:height_range[1],width_range[0]:width_range[1]]\n",
    "    corp_processed_img = processed_img[height_range[0]:height_range[1],width_range[0]:width_range[1]]\n",
    "    \n",
    "    # Get conotur\n",
    "    contours , hierarchy = cv2.findContours(corp_processed_img , cv2.RETR_TREE , cv2.CHAIN_APPROX_SIMPLE)\n",
    "    # IF NO contour \n",
    "    if(len(contours) == 0 ) :  return cam_cx, cam_cy ,  cam_cx , cam_cy , False\n",
    "    # Get approx contour\n",
    "    c = max(contours , key = cv2.contourArea)\n",
    "    peri = cv2.arcLength(c, True)\n",
    "    approx = np.array( cv2.approxPolyDP(c, peri * 0.005 , True) )\n",
    "    M = cv2.moments(approx)\n",
    "    # IF TOO small contour area \n",
    "    if( M['m00'] < min_contour_area ): return cam_cx, cam_cy ,  cam_cx , cam_cy , False\n",
    "    \n",
    "\n",
    "    \n",
    "    \n",
    "    \n",
    "    # get center\n",
    "    cx = int(M['m10']/M['m00']) + width_range[0] \n",
    "    cy = int(M['m01']/M['m00']) + height_range[0]\n",
    "\n",
    "    # draw\n",
    "    cv2.drawContours(crop_img, [approx] , -1, (255,0,0), 3)\n",
    "    cv2.circle(img, (cx,cy), 1,(255,0,0) ,5)\n",
    "    cv2.circle(img, (cam_cx,cam_cy), 1,(0,0,255) ,5)\n",
    "    \n",
    "    \n",
    "    return cam_cx, cam_cy , cx , cy , True\n",
    "\n",
    "\n",
    "#-------------------------------------------------------------------------#\n",
    "prior_error =0; I =0\n",
    "def Get_pid_value(error, Kp , Ki , Kd,check):  \n",
    "    global prior_error, I\n",
    "    P = error \n",
    "    I = I+error \n",
    "    D = error - prior_error\n",
    "    \n",
    "    pid_value = P*Kp + I*Ki + D*Kd\n",
    "    \n",
    "    prior_error = error\n",
    "    value = pid_value / -200 * check\n",
    "    if(value > 1): return 1\n",
    "    elif(value < -1): return -1\n",
    "    else: return value\n",
    "    \n",
    "#-------------------------------------------------------------------------#\n",
    "frame = 0\n",
    "while True:\n",
    "    \n",
    "    ret, img =cap.read() ; img=cv2.undistort(img,camera_matrix,dist_coeffs)\n",
    "    \n",
    "    cam_cx0 , cam_cy0 , contour_cx0 , contour_cy0, check0 = Get_center(img ,height_range = (0,180))\n",
    "    cam_cx1 , cam_cy1 , contour_cx1 , contour_cy1 , check1 = Get_center(img ,height_range = (180,280))\n",
    "    cam_cx2 , cam_cy2 , contour_cx2 , contour_cy2 , check2 = Get_center(img ,height_range = (280,380))\n",
    "    cam_cx3 , cam_cy3 , contour_cx3 , contour_cy3 , check3 = Get_center(img ,height_range = (380,480))\n",
    "    check = 0\n",
    "        \n",
    "    if(check0) : cv2.putText(img, str(cam_cx0 - contour_cx0) , (cam_cx0,cam_cy0),  cv2.FONT_HERSHEY_SIMPLEX, 1, (0,0,255), 3); check += 1\n",
    "    if(check1) : cv2.putText(img, str(cam_cx1 - contour_cx1) , (cam_cx1,cam_cy1),  cv2.FONT_HERSHEY_SIMPLEX, 1, (0,0,255), 3); check += 1\n",
    "    if(check2) : cv2.putText(img, str(cam_cx2 - contour_cx2) , (cam_cx2,cam_cy2),  cv2.FONT_HERSHEY_SIMPLEX, 1, (0,0,255), 3); check += 1\n",
    "    if(check3) : cv2.putText(img, str(cam_cx3 - contour_cx3) , (cam_cx3,cam_cy3),  cv2.FONT_HERSHEY_SIMPLEX, 1, (0,0,255), 3); check += 1\n",
    "                \n",
    "    error0 = cam_cx0 - contour_cx0\n",
    "    error1 = cam_cx1 - contour_cx1\n",
    "    error2 = cam_cx2 - contour_cx2\n",
    "    error3 = cam_cx3 - contour_cx3 \n",
    "        \n",
    "    error = (0.1* error3 + 0.2*error2 + 0.3*error1 +0.4*error0) / check\n",
    "    pid_value = Get_pid_value(error,1,0,0,check)\n",
    "    Car.steering=pid_value\n",
    "    SPEED = 20\n",
    "    car_speed = check * SPEED\n",
    "    Car.forward(car_speed)\n",
    "    \n",
    "    cv2.imshow('img', img)\n",
    "#-------------------------------------------------------------------------#\n",
    "\n",
    "cap.release()\n",
    "cv2.destroyAllWindows()"
   ]
  },
  {
   "cell_type": "code",
   "execution_count": 106,
   "metadata": {},
   "outputs": [],
   "source": [
    "cap.release()\n",
    "cv2.destroyAllWindows()\n",
    "import cv2\n",
    "import numpy as np\n",
    "\n",
    "import time\n",
    "from matplotlib import pyplot as plt\n",
    "\n",
    "\n",
    "from pop import Util,Pilot\n",
    "Car=Pilot.AutoCar()\n",
    "Car.stop()"
   ]
  },
  {
   "cell_type": "code",
   "execution_count": 105,
   "metadata": {},
   "outputs": [
    {
     "data": {
      "application/vnd.jupyter.widget-view+json": {
       "model_id": "a62e027cf16a4a9a81974cab24ac9e07",
       "version_major": 2,
       "version_minor": 0
      },
      "text/plain": [
       "Image(value=b'\\xff\\xd8\\xff\\xe0\\x00\\x10JFIF\\x00\\x01\\x01\\x00\\x00\\x01\\x00\\x01\\x00\\x00\\xff\\xdb\\x00C\\x00\\x02\\x01\\x0…"
      ]
     },
     "metadata": {},
     "output_type": "display_data"
    },
    {
     "ename": "KeyboardInterrupt",
     "evalue": "",
     "output_type": "error",
     "traceback": [
      "\u001b[0;31m---------------------------------------------------------------------------\u001b[0m",
      "\u001b[0;31mKeyboardInterrupt\u001b[0m                         Traceback (most recent call last)",
      "\u001b[0;32m<ipython-input-105-daa472830c19>\u001b[0m in \u001b[0;36m<module>\u001b[0;34m\u001b[0m\n\u001b[1;32m    150\u001b[0m \u001b[0;32mwhile\u001b[0m \u001b[0;32mTrue\u001b[0m\u001b[0;34m:\u001b[0m\u001b[0;34m\u001b[0m\u001b[0;34m\u001b[0m\u001b[0m\n\u001b[1;32m    151\u001b[0m \u001b[0;34m\u001b[0m\u001b[0m\n\u001b[0;32m--> 152\u001b[0;31m     \u001b[0mret\u001b[0m\u001b[0;34m,\u001b[0m \u001b[0mimg\u001b[0m \u001b[0;34m=\u001b[0m\u001b[0mcap\u001b[0m\u001b[0;34m.\u001b[0m\u001b[0mread\u001b[0m\u001b[0;34m(\u001b[0m\u001b[0;34m)\u001b[0m \u001b[0;34m;\u001b[0m \u001b[0mimg\u001b[0m\u001b[0;34m=\u001b[0m\u001b[0mcv2\u001b[0m\u001b[0;34m.\u001b[0m\u001b[0mundistort\u001b[0m\u001b[0;34m(\u001b[0m\u001b[0mimg\u001b[0m\u001b[0;34m,\u001b[0m\u001b[0mcamera_matrix\u001b[0m\u001b[0;34m,\u001b[0m\u001b[0mdist_coeffs\u001b[0m\u001b[0;34m)\u001b[0m\u001b[0;34m\u001b[0m\u001b[0;34m\u001b[0m\u001b[0m\n\u001b[0m\u001b[1;32m    153\u001b[0m     \u001b[0mpreprosed_img\u001b[0m \u001b[0;34m=\u001b[0m \u001b[0mPreprocesing\u001b[0m\u001b[0;34m(\u001b[0m \u001b[0mimg\u001b[0m \u001b[0;34m)\u001b[0m\u001b[0;34m\u001b[0m\u001b[0;34m\u001b[0m\u001b[0m\n\u001b[1;32m    154\u001b[0m     \u001b[0mframe\u001b[0m \u001b[0;34m+=\u001b[0m \u001b[0;36m1\u001b[0m \u001b[0;34m;\u001b[0m \u001b[0mcheck\u001b[0m \u001b[0;34m=\u001b[0m \u001b[0;36m0\u001b[0m \u001b[0;34m;\u001b[0m  \u001b[0merror\u001b[0m \u001b[0;34m=\u001b[0m \u001b[0;36m0\u001b[0m\u001b[0;34m\u001b[0m\u001b[0;34m\u001b[0m\u001b[0m\n",
      "\u001b[0;31mKeyboardInterrupt\u001b[0m: "
     ]
    }
   ],
   "source": [
    "import cv2\n",
    "import numpy as np\n",
    "import time\n",
    "from matplotlib import pyplot as plt\n",
    "from pop import Util,Pilot\n",
    "\n",
    "\n",
    "\n",
    "\n",
    "Car=Pilot.AutoCar()\n",
    "Car.camPan(98)\n",
    "Car.camTilt(-15)\n",
    "#Util.enable_imshow()\n",
    "\n",
    "cam = Util.gstrmer(width=640,height=480)\n",
    "cap =cv2.VideoCapture(cam,cv2.CAP_GSTREAMER)\n",
    "camera_matrix_file=\"intrinsic_parameters/camera_matrix.npy\"\n",
    "dist_coeffs_file = \"intrinsic_parameters/distortion_coefficients.npy\"\n",
    "\n",
    "\n",
    "\n",
    "camera_matrix=np.load(camera_matrix_file)\n",
    "dist_coeffs=np.load(dist_coeffs_file)\n",
    "\n",
    "\n",
    "#most fur\n",
    "w1= 2.5\n",
    "w2= 1.0\n",
    "w3= 0.5\n",
    "Kp=0.8\n",
    "Ki=0 \n",
    "Kd=0.4\n",
    "\n",
    "\n",
    "\n",
    "def Get_range_value(value):\n",
    "    if(value>1):return 1\n",
    "    elif(value<-1):return -1\n",
    "    return value\n",
    "\n",
    "def Get_error(img, cam_cx , cam_cy , contour_cx , contour_cy ):\n",
    "    #height = 480 - contour_cy \n",
    "    error = ( ( contour_cx - cam_cx   ) / 320 )\n",
    "    cv2.putText(img, str(\"%.2f\"%error) , (cam_cx,cam_cy),  cv2.FONT_HERSHEY_SIMPLEX, 1, (0,0,255), 3 )\n",
    "                \n",
    "    return error\n",
    "def Preprocesing( img ):\n",
    "\n",
    "    # PreProcessing----------------------------------------------------------\n",
    "    \n",
    "    # HSV image \n",
    "    img_hsv = cv2.cvtColor(img, cv2.COLOR_BGR2HSV) \n",
    "    \n",
    "    # Normalization\n",
    "    #img_hsv[:,:,1]  = cv2.normalize(img_hsv[:,:,1],None, 0, 255, cv2.NORM_MINMAX)\n",
    "    #img_hsv[:,:,2]  = cv2.normalize(img_hsv[:,:,2],None, 0, 255, cv2.NORM_MINMAX)\n",
    "    \n",
    "    # bitwise \n",
    "    lower_green = (75, 40 , 40)\n",
    "    upper_green =  (130, 255, 255)\n",
    "    img_mask = cv2.inRange( img_hsv  , lower_green, upper_green)\n",
    "    \n",
    "    # blur\n",
    "    \n",
    "    # erode + dilat\n",
    "    #cv2.imshow('img',img_mask)\n",
    "    \n",
    "    '''\n",
    "    kernel = np.ones((9,9) , np.uint8)\n",
    "    openin_img = cv2.morphologyEx(img_mask, cv2.MORPH_OPEN, kernel)\n",
    "    '''\n",
    "    \n",
    "    kernel = np.ones((11,11) , np.uint8)\n",
    "    img_erode  = cv2.erode(img_mask, kernel)\n",
    "    kernel = np.ones((5,5) , np.uint8)\n",
    "    img_dilat = cv2.dilate(img_erode, kernel)\n",
    "    \n",
    "    #cv2.imshow('img',img_dilat)\n",
    "    \n",
    "    \n",
    "    return img_dilat\n",
    "    \n",
    "    \n",
    "    \n",
    "#-------------------------------------------------------------------------#\n",
    "\n",
    "\n",
    "    \n",
    "def Get_center(img,processed_img,height_range:tuple , width_range = (320 - 320 , 320 + 320) , min_contour_area = 100 ):\n",
    "\n",
    "    # get cam center\n",
    "    cam_cx,cam_cy = int ((width_range[0] + width_range[1]) / 2) , int ((height_range[0] + height_range[1]) / 2)\n",
    "    \n",
    "    # Crops image\n",
    "    crop_img  = img[height_range[0]:height_range[1],width_range[0]:width_range[1]]\n",
    "    corp_processed_img = processed_img[height_range[0]:height_range[1],width_range[0]:width_range[1]]\n",
    "    \n",
    "    # Get conotur\n",
    "    contours , hierarchy = cv2.findContours(corp_processed_img , cv2.RETR_TREE , cv2.CHAIN_APPROX_SIMPLE)\n",
    "    # IF NO contour \n",
    "    if(len(contours) == 0 ) :  return cam_cx, cam_cy ,  cam_cx , cam_cy , False\n",
    "    # Get approx contour\n",
    "    c = max(contours , key = cv2.contourArea)\n",
    "    peri = cv2.arcLength(c, True)\n",
    "    approx = np.array( cv2.approxPolyDP(c, peri * 0.005 , True) )\n",
    "    M = cv2.moments(approx)\n",
    "    # IF TOO small contour area \n",
    "    if( M['m00'] < min_contour_area ): return cam_cx, cam_cy ,  cam_cx , cam_cy , False\n",
    "    \n",
    "\n",
    "    \n",
    "    \n",
    "    \n",
    "    # get center\n",
    "    cx = int(M['m10']/M['m00']) + width_range[0] \n",
    "    cy = int(M['m01']/M['m00']) + height_range[0]\n",
    "\n",
    "    # draw\n",
    "    cv2.drawContours(crop_img, [approx] , -1, (255,0,0), 3)\n",
    "    cv2.circle(img, (cx,cy), 1,(255,0,0) ,5)\n",
    "    cv2.circle(img, (cam_cx,cam_cy), 1,(0,0,255) ,5)\n",
    "    \n",
    "    \n",
    "    return cam_cx, cam_cy , cx , cy , True\n",
    "\n",
    "\n",
    "\n",
    "\n",
    "#-------------------------------------------------------------------------#\n",
    "prior_error =0; I =0\n",
    "def Get_pid_value(error, Kp , Ki , Kd):  \n",
    "    global prior_error, I\n",
    "    P = error \n",
    "    I = I+error \n",
    "    D = error - prior_error\n",
    "    \n",
    "    pid_value = Get_range_value ( P*Kp + I*Ki + D*Kd )\n",
    "    prior_error = error\n",
    "    \n",
    "    \n",
    "    \n",
    "    \n",
    "    return pid_value\n",
    "    \n",
    "#-------------------------------------------------------------------------#\n",
    "\n",
    "Car.forward(150)\n",
    "\n",
    "frame = 0 ; pid_value = 0\n",
    "while True:\n",
    "    \n",
    "    ret, img =cap.read() ; img=cv2.undistort(img,camera_matrix,dist_coeffs)\n",
    "    preprosed_img = Preprocesing( img )\n",
    "    frame += 1 ; check = 0 ;  error = 0 \n",
    "    \n",
    "\n",
    "\n",
    "    cam_cx1 , cam_cy1 , contour_cx1 , contour_cy1 , check1 = Get_center(img ,preprosed_img,height_range = (80,180))\n",
    "    cam_cx2 , cam_cy2 , contour_cx2 , contour_cy2 , check2 = Get_center(img ,preprosed_img,height_range = (180,280))\n",
    "    cam_cx3 , cam_cy3 , contour_cx3 , contour_cy3 , check3 = Get_center(img ,preprosed_img,height_range = (280,380))\n",
    "    \n",
    "   \n",
    "    if(check1) : error = error + Get_error(img,cam_cx1 , cam_cy1 , contour_cx1 , contour_cy1 )  *w1  ; check += 1 \n",
    "    if(check2) : error = error + Get_error(img,cam_cx2 , cam_cy2 , contour_cx2 , contour_cy2 )  *w2  ; check += 1\n",
    "    if(check3) : error = error + Get_error(img,cam_cx3 , cam_cy3 , contour_cx3 , contour_cy3 )  *w3  ; check += 1\n",
    "    \n",
    "                \n",
    "                \n",
    "    if(frame % 5 == 0):\n",
    "        if(check > 0) : \n",
    "            pid_value = Get_pid_value(error/check,Kp , Ki , Kd)\n",
    "            Car.steering=pid_value\n",
    "                #cap.release()\n",
    "                #cap =cv2.VideoCapture(cam,cv2.CAP_GSTREAMER)\n",
    "            \n",
    "        cv2.putText(img, str(\"PID : %.2f\"%pid_value) , (30,30),  cv2.FONT_HERSHEY_SIMPLEX, 1, (0,0,255), 3 )\n",
    "\n",
    "        cv2.imshow('img',img)\n",
    "        "
   ]
  },
  {
   "cell_type": "code",
   "execution_count": 23,
   "metadata": {},
   "outputs": [],
   "source": [
    "ret, img =cap.read() ; img=cv2.undistort(img,camera_matrix,dist_coeffs)"
   ]
  },
  {
   "cell_type": "code",
   "execution_count": null,
   "metadata": {},
   "outputs": [],
   "source": []
  },
  {
   "cell_type": "code",
   "execution_count": 27,
   "metadata": {},
   "outputs": [
    {
     "data": {
      "application/vnd.jupyter.widget-view+json": {
       "model_id": "1c7a835ba32946cc89c2350eaee70241",
       "version_major": 2,
       "version_minor": 0
      },
      "text/plain": [
       "Image(value=b'\\xff\\xd8\\xff\\xe0\\x00\\x10JFIF\\x00\\x01\\x01\\x00\\x00\\x01\\x00\\x01\\x00\\x00\\xff\\xdb\\x00C\\x00\\x02\\x01\\x0…"
      ]
     },
     "metadata": {},
     "output_type": "display_data"
    }
   ],
   "source": [
    "cv2.imshow('igm',img)"
   ]
  },
  {
   "cell_type": "code",
   "execution_count": 85,
   "metadata": {},
   "outputs": [],
   "source": [
    "\n",
    "def Preprocesing( img ):\n",
    "\n",
    "    # PreProcessing----------------------------------------------------------\n",
    "    \n",
    "    # HSV image \n",
    "    img_hsv = cv2.cvtColor(img, cv2.COLOR_BGR2HSV) \n",
    "    plt.subplot(1,3,1)\n",
    "    plt.imshow(img_hsv[:,:,0] , cmap='gray'); plt.axis('off')\n",
    "    plt.subplot(1,3,2)\n",
    "    plt.imshow(img_hsv[:,:,1] , cmap='gray'); plt.axis('off')\n",
    "    plt.subplot(1,3,3)\n",
    "    plt.imshow(img_hsv[:,:,2] , cmap='gray');  plt.axis('off') ;  \n",
    "    plt.show()\n",
    "    \n",
    "    \n",
    "    \n",
    "    \n",
    "    \n",
    "    # Normalization\n",
    "    #img_hsv[:,:,1]  = cv2.normalize(img_hsv[:,:,1],None, 0, 255, cv2.NORM_MINMAX)\n",
    "    #img_hsv[:,:,2]  = cv2.normalize(img_hsv[:,:,2],None, 0, 255, cv2.NORM_MINMAX)\n",
    "    \n",
    "    # bitwise \n",
    "    \n",
    "    \n",
    "    #img_hsv[:,:,2]  = cv2.normalize(img_hsv[:,:,2],None, 0, 255, cv2.NORM_MINMAX)\n",
    "    \n",
    "    # bitwise \n",
    "    lower_green = (75, 40 , 40)\n",
    "    upper_green =  (120, 255, 255)\n",
    "    img_mask = cv2.inRange( img_hsv  , lower_green, upper_green)\n",
    "    \n",
    "    plt.imshow(img_mask , cmap='gray');  plt.axis('off') ;  plt.axis('off') ;  \n",
    "    plt.show() \n",
    "\n",
    "    \n",
    "    # blur\n",
    "    \n",
    "    # erode + dilat\n",
    "    #cv2.imshow('img',img_mask)\n",
    "    \n",
    "    '''\n",
    "    kernel = np.ones((9,9) , np.uint8)\n",
    "    openin_img = cv2.morphologyEx(img_mask, cv2.MORPH_OPEN, kernel)\n",
    "    '''\n",
    "    \n",
    "    kernel = np.ones((11,11) , np.uint8)\n",
    "    img_erode  = cv2.erode(img_mask, kernel)\n",
    "    kernel = np.ones((5,5) , np.uint8)\n",
    "    img_dilat = cv2.dilate(img_erode, kernel)\n",
    "    \n",
    "    plt.axis('off') ;  plt.imshow(img_dilat , cmap='gray'); plt.show()\n",
    "    \n",
    "    \n",
    "    \n",
    "    \n",
    "    plt.imshow(img[100:150,50:75,]) ; plt.show()\n",
    "    print(img[100:150,50:75,])\n",
    "    return img_dilat\n",
    "\n"
   ]
  },
  {
   "cell_type": "code",
   "execution_count": 86,
   "metadata": {},
   "outputs": [
    {
     "data": {
      "image/png": "[encoded data removed]",
      "text/plain": [
       "<Figure size 432x288 with 1 Axes>"
      ]
     },
     "metadata": {
      "needs_background": "light"
     },
     "output_type": "display_data"
    },
    {
     "data": {
      "image/png": "[encoded data removed]",
      "text/plain": [
       "<Figure size 432x288 with 3 Axes>"
      ]
     },
     "metadata": {
      "needs_background": "light"
     },
     "output_type": "display_data"
    },
    {
     "data": {
      "image/png": "[encoded data removed]",
      "text/plain": [
       "<Figure size 432x288 with 1 Axes>"
      ]
     },
     "metadata": {
      "needs_background": "light"
     },
     "output_type": "display_data"
    },
    {
     "data": {
      "image/png": "[encoded data removed]",
      "text/plain": [
       "<Figure size 432x288 with 1 Axes>"
      ]
     },
     "metadata": {
      "needs_background": "light"
     },
     "output_type": "display_data"
    },
    {
     "data": {
      "image/png": "[encoded data removed]",
      "text/plain": [
       "<Figure size 432x288 with 1 Axes>"
      ]
     },
     "metadata": {
      "needs_background": "light"
     },
     "output_type": "display_data"
    },
    {
     "name": "stdout",
     "output_type": "stream",
     "text": [
      "[[[106 113  98]\n",
      "  [106 113  98]\n",
      "  [105 112  97]\n",
      "  ...\n",
      "  [105 115  99]\n",
      "  [113 121 109]\n",
      "  [121 129 118]]\n",
      "\n",
      " [[105 112  97]\n",
      "  [105 112  97]\n",
      "  [105 112  97]\n",
      "  ...\n",
      "  [103 113  97]\n",
      "  [107 116 103]\n",
      "  [113 121 111]]\n",
      "\n",
      " [[105 112  97]\n",
      "  [105 112  97]\n",
      "  [105 112  97]\n",
      "  ...\n",
      "  [102 112  96]\n",
      "  [104 113  99]\n",
      "  [108 116 104]]\n",
      "\n",
      " ...\n",
      "\n",
      " [[137 149 149]\n",
      "  [138 149 151]\n",
      "  [140 149 153]\n",
      "  ...\n",
      "  [106 114  97]\n",
      "  [106 114  97]\n",
      "  [106 114  97]]\n",
      "\n",
      " [[137 149 149]\n",
      "  [139 149 151]\n",
      "  [140 149 153]\n",
      "  ...\n",
      "  [106 114  97]\n",
      "  [107 115  98]\n",
      "  [106 114  97]]\n",
      "\n",
      " [[138 150 151]\n",
      "  [139 150 152]\n",
      "  [140 149 152]\n",
      "  ...\n",
      "  [107 115  98]\n",
      "  [107 115  98]\n",
      "  [105 113  96]]]\n"
     ]
    },
    {
     "data": {
      "image/png": "[encoded data removed]",
      "text/plain": [
       "<Figure size 432x288 with 1 Axes>"
      ]
     },
     "metadata": {
      "needs_background": "light"
     },
     "output_type": "display_data"
    }
   ],
   "source": [
    "img=cv2.imread('image.jpg')\n",
    "img=cv2.undistort(img,camera_matrix,dist_coeffs)\n",
    "plt.imshow(img,cmap='brg') ; plt.show()\n",
    "preprosed_img = Preprocesing( img )\n",
    "plt.imshow(preprosed_img) ; plt.show()"
   ]
  },
  {
   "cell_type": "code",
   "execution_count": null,
   "metadata": {},
   "outputs": [],
   "source": []
  }
 ],
 "metadata": {
  "kernelspec": {
   "display_name": "Python 3",
   "language": "python",
   "name": "python3"
  },
  "language_info": {
   "codemirror_mode": {
    "name": "ipython",
    "version": 3
   },
   "file_extension": ".py",
   "mimetype": "text/x-python",
   "name": "python",
   "nbconvert_exporter": "python",
   "pygments_lexer": "ipython3",
   "version": "3.6.9"
  }
 },
 "nbformat": 4,
 "nbformat_minor": 5
}
